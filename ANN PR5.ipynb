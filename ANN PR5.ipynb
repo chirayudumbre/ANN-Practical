{
 "cells": [
  {
   "cell_type": "code",
   "execution_count": 3,
   "id": "4502e131-c141-4c34-9435-bf35ac280a88",
   "metadata": {},
   "outputs": [
    {
     "name": "stdout",
     "output_type": "stream",
     "text": [
      "Input x: [ 1 -1 -1 -1]\n",
      "Output: [ 1 -1]\n"
     ]
    }
   ],
   "source": [
    "import numpy as np\n",
    "x1=np.array([1,1,1,-1])\n",
    "y1=np.array([1,-1])\n",
    "x2=np.array([-1,-1,1,1])\n",
    "y2=np.array([-1,1])\n",
    "W=np.outer(y1,x1)+np.outer(y2,x2)\n",
    "def bam(x):\n",
    "    y=np.dot(W,x)\n",
    "    y=np.where(y>=0,1,-1)\n",
    "    return y\n",
    "x_test=np.array([1,-1,-1,-1])\n",
    "y_test=bam(x_test)\n",
    "print(\"Input x:\",x_test)\n",
    "print(\"Output:\",y_test)\n"
   ]
  },
  {
   "cell_type": "code",
   "execution_count": null,
   "id": "6d46a1db-7a09-4ebd-8dd2-8730cd972337",
   "metadata": {},
   "outputs": [],
   "source": []
  }
 ],
 "metadata": {
  "kernelspec": {
   "display_name": "Python 3 (ipykernel)",
   "language": "python",
   "name": "python3"
  },
  "language_info": {
   "codemirror_mode": {
    "name": "ipython",
    "version": 3
   },
   "file_extension": ".py",
   "mimetype": "text/x-python",
   "name": "python",
   "nbconvert_exporter": "python",
   "pygments_lexer": "ipython3",
   "version": "3.12.7"
  }
 },
 "nbformat": 4,
 "nbformat_minor": 5
}
