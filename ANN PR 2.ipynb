{
 "cells": [
  {
   "cell_type": "code",
   "execution_count": null,
   "id": "1652c89f-5f5e-4e9a-b991-3894e853c469",
   "metadata": {},
   "outputs": [],
   "source": [
    "import numpy as np\n",
    "\n",
    "def linear_threshold_gate(dot, T):\n",
    "    \"\"\"Returns the binary threshold output\"\"\"\n",
    "    if dot >= T:\n",
    "        return 1\n",
    "    else:\n",
    "        return 0\n",
    "\n",
    "input_table = np.array([\n",
    "    [0, 0], \n",
    "    [0, 1],\n",
    "    [1, 0], \n",
    "    [1, 1]\n",
    "])\n",
    "\n",
    "print(f'Input table:\\n{input_table}')\n",
    "\n",
    "weights = np.array([1, -1])\n",
    "dot_products = input_table @ weights\n",
    "T = 1\n",
    "\n",
    "for i in range(4):\n",
    "    activation = linear_threshold_gate(dot_products[i], T)\n",
    "    print(f'Input: {input_table[i]}, Dot product: {dot_products[i]}, Activation: {activation}')\n"
   ]
  }
 ],
 "metadata": {
  "kernelspec": {
   "display_name": "Python 3 (ipykernel)",
   "language": "python",
   "name": "python3"
  },
  "language_info": {
   "codemirror_mode": {
    "name": "ipython",
    "version": 3
   },
   "file_extension": ".py",
   "mimetype": "text/x-python",
   "name": "python",
   "nbconvert_exporter": "python",
   "pygments_lexer": "ipython3",
   "version": "3.12.7"
  }
 },
 "nbformat": 4,
 "nbformat_minor": 5
}
