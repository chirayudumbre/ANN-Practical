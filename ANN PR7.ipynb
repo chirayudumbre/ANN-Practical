{
 "cells": [
  {
   "cell_type": "code",
   "execution_count": 4,
   "id": "4502e131-c141-4c34-9435-bf35ac280a88",
   "metadata": {},
   "outputs": [],
   "source": [
    "import numpy as np\n",
    "\n",
    "class XORNetwork:\n",
    "    def __init__(self):\n",
    "        # Initialize weights and biases\n",
    "        self.W1 = np.random.randn(2, 2)\n",
    "        self.b1 = np.random.randn(2)\n",
    "        self.W2 = np.random.randn(2, 1)\n",
    "        self.b2 = np.random.randn(1)\n",
    "\n",
    "    def sigmoid(self, x):\n",
    "        return 1 / (1 + np.exp(-x))\n",
    "\n",
    "    def sigmoid_derivative(self, x):\n",
    "        return x * (1 - x)\n",
    "\n",
    "    def forward(self, X):\n",
    "        self.z1 = np.dot(X, self.W1) + self.b1\n",
    "        self.a1 = self.sigmoid(self.z1)\n",
    "        self.z2 = np.dot(self.a1, self.W2) + self.b2\n",
    "        self.a2 = self.sigmoid(self.z2)\n",
    "        return self.a2\n",
    "\n",
    "    def backward(self, X, y, output, lr):\n",
    "        # Calculate error and deltas\n",
    "        self.output_error = y - output\n",
    "        self.output_delta = self.output_error * self.sigmoid_derivative(output)\n",
    "\n",
    "        self.z1_error = self.output_delta.dot(self.W2.T)\n",
    "        self.z1_delta = self.z1_error * self.sigmoid_derivative(self.a1)\n",
    "\n",
    "        # Update weights and biases using learning rate\n",
    "        self.W2 += lr * self.a1.T.dot(self.output_delta)\n",
    "        self.b2 += lr * np.sum(self.output_delta, axis=0)\n",
    "        self.W1 += lr * X.T.dot(self.z1_delta)\n",
    "        self.b1 += lr * np.sum(self.z1_delta, axis=0)\n",
    "\n",
    "    def train(self, X, y, epochs, lr=0.1):\n",
    "        for epoch in range(epochs):\n",
    "            output = self.forward(X)\n",
    "            self.backward(X, y, output, lr)\n",
    "            if epoch % 1000 == 0:\n",
    "                loss = np.mean(np.abs(y - output))\n",
    "                print(f\"Epoch {epoch} Loss: {loss:.4f}\")\n",
    "\n",
    "    def predict(self, X):\n",
    "        return forward(X)\n",
    "    print(predictions)\n"
   ]
  },
  {
   "cell_type": "code",
   "execution_count": null,
   "id": "6d46a1db-7a09-4ebd-8dd2-8730cd972337",
   "metadata": {},
   "outputs": [],
   "source": []
  }
 ],
 "metadata": {
  "kernelspec": {
   "display_name": "Python 3 (ipykernel)",
   "language": "python",
   "name": "python3"
  },
  "language_info": {
   "codemirror_mode": {
    "name": "ipython",
    "version": 3
   },
   "file_extension": ".py",
   "mimetype": "text/x-python",
   "name": "python",
   "nbconvert_exporter": "python",
   "pygments_lexer": "ipython3",
   "version": "3.12.7"
  }
 },
 "nbformat": 4,
 "nbformat_minor": 5
}
