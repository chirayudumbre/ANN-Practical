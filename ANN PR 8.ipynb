{
 "cells": [
  {
   "cell_type": "code",
   "execution_count": 5,
   "id": "4502e131-c141-4c34-9435-bf35ac280a88",
   "metadata": {},
   "outputs": [
    {
     "name": "stdout",
     "output_type": "stream",
     "text": [
      "Epoch 0 Error: 0.5011\n",
      "Epoch 10000 Error: 0.4844\n",
      "Epoch 20000 Error: 0.3647\n",
      "Epoch 30000 Error: 0.3404\n",
      "Epoch 40000 Error: 0.3291\n",
      "Epoch 50000 Error: 0.3221\n",
      "Epoch 60000 Error: 0.3171\n",
      "Epoch 70000 Error: 0.3133\n",
      "Epoch 80000 Error: 0.3103\n",
      "Epoch 90000 Error: 0.3078\n",
      "\n",
      "Input:\n",
      "[[0 0]\n",
      " [0 1]\n",
      " [1 0]\n",
      " [1 1]]\n",
      "\n",
      "Output:\n",
      "[[0.613]\n",
      " [0.641]\n",
      " [0.861]\n",
      " [0.111]]\n"
     ]
    }
   ],
   "source": [
    "import numpy as np\n",
    "\n",
    "def sigmoid(x):\n",
    "    return 1 / (1 + np.exp(-x))\n",
    "\n",
    "def sigmoid_derivative(x):\n",
    "    return x * (1 - x)\n",
    "\n",
    "# XOR input and output\n",
    "X = np.array([[0, 0],\n",
    "              [0, 1],\n",
    "              [1, 0],\n",
    "              [1, 1]])\n",
    "\n",
    "y = np.array([[0],\n",
    "              [1],\n",
    "              [1],\n",
    "              [0]])\n",
    "\n",
    "learning_rate = 0.1\n",
    "num_epochs = 100000\n",
    "\n",
    "# Initialize weights\n",
    "hidden_weights = 2 * np.random.random((2, 2)) - 1\n",
    "output_weights = 2 * np.random.random((2, 1)) - 1\n",
    "\n",
    "# Training loop\n",
    "for epoch in range(num_epochs):\n",
    "    hidden_layer = sigmoid(np.dot(X, hidden_weights))\n",
    "    output_layer = sigmoid(np.dot(hidden_layer, output_weights))\n",
    "\n",
    "    output_error = y - output_layer\n",
    "    output_delta = output_error * sigmoid_derivative(output_layer)\n",
    "\n",
    "    hidden_error = output_delta.dot(output_weights.T)\n",
    "    hidden_delta = hidden_error * sigmoid_derivative(hidden_layer)\n",
    "\n",
    "    output_weights += hidden_layer.T.dot(output_delta) * learning_rate\n",
    "    hidden_weights += X.T.dot(hidden_delta) * learning_rate\n",
    "\n",
    "    # Optional: print error every 10,000 epochs\n",
    "    if epoch % 10000 == 0:\n",
    "        print(f\"Epoch {epoch} Error: {np.mean(np.abs(output_error)):.4f}\")\n",
    "\n",
    "# Final output\n",
    "print(\"\\nInput:\")\n",
    "print(X)\n",
    "print(\"\\nOutput:\")\n",
    "print(np.round(output_layer, 3))\n"
   ]
  },
  {
   "cell_type": "code",
   "execution_count": null,
   "id": "6d46a1db-7a09-4ebd-8dd2-8730cd972337",
   "metadata": {},
   "outputs": [],
   "source": []
  }
 ],
 "metadata": {
  "kernelspec": {
   "display_name": "Python 3 (ipykernel)",
   "language": "python",
   "name": "python3"
  },
  "language_info": {
   "codemirror_mode": {
    "name": "ipython",
    "version": 3
   },
   "file_extension": ".py",
   "mimetype": "text/x-python",
   "name": "python",
   "nbconvert_exporter": "python",
   "pygments_lexer": "ipython3",
   "version": "3.12.7"
  }
 },
 "nbformat": 4,
 "nbformat_minor": 5
}
