{
 "cells": [
  {
   "cell_type": "code",
   "execution_count": 2,
   "id": "89d9781c-6c33-4faa-b1d0-83b90233213f",
   "metadata": {},
   "outputs": [
    {
     "name": "stdout",
     "output_type": "stream",
     "text": [
      "Input pattern: [ 1  1 -1 -1]\n",
      "Predicted pattern: [-1. -1. -1. -1.]\n",
      "Input pattern: [-1 -1  1  1]\n",
      "Predicted pattern: [-1. -1. -1. -1.]\n",
      "Input pattern: [ 1 -1  1 -1]\n",
      "Predicted pattern: [-1. -1. -1. -1.]\n",
      "Input pattern: [-1  1 -1  1]\n",
      "Predicted pattern: [-1. -1. -1. -1.]\n"
     ]
    }
   ],
   "source": [
    "import numpy as np\n",
    "\n",
    "class HopfieldNetwork:\n",
    "    def __init__(self, n_neurons):\n",
    "        self.n_neurons = n_neurons\n",
    "        self.weights = np.zeros((n_neurons, n_neurons))\n",
    "\n",
    "    def train(self, patterns):\n",
    "        for pattern in patterns:\n",
    "            self.weights += np.outer(pattern, pattern)\n",
    "        np.fill_diagonal(self.weights, 0)\n",
    "\n",
    "    def predict(self, pattern):\n",
    "        energy = -0.5 * np.dot(np.dot(pattern, self.weights), pattern)\n",
    "        return np.sign(np.dot(self.weights, pattern) + energy)\n",
    "\n",
    "if __name__ == '__main__':\n",
    "    patterns = np.array([\n",
    "        [1, 1, -1, -1],\n",
    "        [-1, -1, 1, 1],\n",
    "        [1, -1, 1, -1],\n",
    "        [-1, 1, -1, 1]\n",
    "    ])\n",
    "    \n",
    "    n_neurons = patterns.shape[1]\n",
    "    network = HopfieldNetwork(n_neurons)\n",
    "    network.train(patterns)\n",
    "    \n",
    "    for pattern in patterns:\n",
    "        prediction = network.predict(pattern)\n",
    "        print('Input pattern:', pattern)\n",
    "        print('Predicted pattern:', prediction)\n"
   ]
  },
  {
   "cell_type": "code",
   "execution_count": null,
   "id": "a3fc3e5b-b7a3-4835-9616-a38665952c69",
   "metadata": {},
   "outputs": [],
   "source": []
  }
 ],
 "metadata": {
  "kernelspec": {
   "display_name": "Python 3 (ipykernel)",
   "language": "python",
   "name": "python3"
  },
  "language_info": {
   "codemirror_mode": {
    "name": "ipython",
    "version": 3
   },
   "file_extension": ".py",
   "mimetype": "text/x-python",
   "name": "python",
   "nbconvert_exporter": "python",
   "pygments_lexer": "ipython3",
   "version": "3.12.7"
  }
 },
 "nbformat": 4,
 "nbformat_minor": 5
}
