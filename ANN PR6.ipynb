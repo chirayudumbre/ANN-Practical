{
 "cells": [
  {
   "cell_type": "code",
   "execution_count": 4,
   "id": "4502e131-c141-4c34-9435-bf35ac280a88",
   "metadata": {},
   "outputs": [
    {
     "name": "stdout",
     "output_type": "stream",
     "text": [
      "Error at epoch 0 : 0.4965801485213994\n",
      "Error at epoch 1000 : 0.4079756700470556\n",
      "Error at epoch 2000 : 0.20395880173969688\n",
      "Error at epoch 3000 : 0.12069187212534527\n",
      "Error at epoch 4000 : 0.08834930646740667\n",
      "Error at epoch 5000 : 0.07148540868817659\n",
      "Error at epoch 6000 : 0.06103252741769541\n",
      "Error at epoch 7000 : 0.05384486154122231\n",
      "Error at epoch 8000 : 0.04855489115263826\n",
      "Error at epoch 9000 : 0.044471688889562384\n",
      "\n",
      "Predictions:\n",
      " [[0.023]\n",
      " [0.953]\n",
      " [0.959]\n",
      " [0.054]]\n"
     ]
    }
   ],
   "source": [
    "import numpy as np\n",
    "\n",
    "class NeuralNetwork:\n",
    "    def __init__(self, input_size, hidden_size, output_size):\n",
    "        self.W1 = np.random.randn(input_size, hidden_size)\n",
    "        self.b1 = np.zeros((1, hidden_size))\n",
    "        self.W2 = np.random.randn(hidden_size, output_size)\n",
    "        self.b2 = np.zeros((1, output_size))\n",
    "\n",
    "    def sigmoid(self, x):\n",
    "        return 1 / (1 + np.exp(-x))\n",
    "\n",
    "    def sigmoid_derivative(self, x):\n",
    "        return x * (1 - x)\n",
    "\n",
    "    def forward_propagation(self, X):\n",
    "        self.z1 = np.dot(X, self.W1) + self.b1\n",
    "        self.a1 = self.sigmoid(self.z1)\n",
    "        self.z2 = np.dot(self.a1, self.W2) + self.b2\n",
    "        y_hat = self.sigmoid(self.z2)\n",
    "        return y_hat\n",
    "\n",
    "    def backward_propagation(self, X, y, y_hat, learning_rate):\n",
    "        self.error = y - y_hat\n",
    "        self.delta2 = self.error * self.sigmoid_derivative(y_hat)\n",
    "        self.a1_error = self.delta2.dot(self.W2.T)\n",
    "        self.delta1 = self.a1_error * self.sigmoid_derivative(self.a1)\n",
    "\n",
    "        # Update weights and biases with learning rate\n",
    "        self.W2 += learning_rate * self.a1.T.dot(self.delta2)\n",
    "        self.b2 += learning_rate * np.sum(self.delta2, axis=0, keepdims=True)\n",
    "        self.W1 += learning_rate * X.T.dot(self.delta1)\n",
    "        self.b1 += learning_rate * np.sum(self.delta1, axis=0)\n",
    "\n",
    "    def train(self, X, y, epochs, learning_rate=0.1):\n",
    "        for i in range(epochs):\n",
    "            y_hat = self.forward_propagation(X)\n",
    "            self.backward_propagation(X, y, y_hat, learning_rate)\n",
    "            if i % 1000 == 0:\n",
    "                print(\"Error at epoch\", i, \":\", np.mean(np.abs(self.error)))\n",
    "\n",
    "    def predict(self, X):\n",
    "        return self.forward_propagation(X)\n",
    "\n",
    "# XOR input and output\n",
    "X = np.array([[0, 0],\n",
    "              [0, 1],\n",
    "              [1, 0],\n",
    "              [1, 1]])\n",
    "y = np.array([[0],\n",
    "              [1],\n",
    "              [1],\n",
    "              [0]])\n",
    "\n",
    "# Initialize and train the network\n",
    "nn = NeuralNetwork(input_size=2, hidden_size=4, output_size=1)\n",
    "nn.train(X, y, epochs=10000, learning_rate=0.1)\n",
    "\n",
    "# Predictions\n",
    "predictions = nn.predict(X)\n",
    "print(\"\\nPredictions:\\n\", predictions.round(3))\n"
   ]
  },
  {
   "cell_type": "code",
   "execution_count": null,
   "id": "6d46a1db-7a09-4ebd-8dd2-8730cd972337",
   "metadata": {},
   "outputs": [],
   "source": []
  }
 ],
 "metadata": {
  "kernelspec": {
   "display_name": "Python 3 (ipykernel)",
   "language": "python",
   "name": "python3"
  },
  "language_info": {
   "codemirror_mode": {
    "name": "ipython",
    "version": 3
   },
   "file_extension": ".py",
   "mimetype": "text/x-python",
   "name": "python",
   "nbconvert_exporter": "python",
   "pygments_lexer": "ipython3",
   "version": "3.12.7"
  }
 },
 "nbformat": 4,
 "nbformat_minor": 5
}
